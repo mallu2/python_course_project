{
 "cells": [
  {
   "cell_type": "markdown",
   "metadata": {},
   "source": [
    "Task 3 use a matrix a such that each column will be reflected one by one"
   ]
  },
  {
   "cell_type": "code",
   "execution_count": 1,
   "metadata": {
    "collapsed": true
   },
   "outputs": [],
   "source": [
    "import numpy as np"
   ]
  },
  {
   "cell_type": "code",
   "execution_count": 5,
   "metadata": {},
   "outputs": [
    {
     "data": {
      "text/plain": [
       "matrix([[ 2,  3,  4],\n",
       "        [-2,  4,  7],\n",
       "        [ 5,  9,  1],\n",
       "        [ 6, -3, -1]])"
      ]
     },
     "execution_count": 5,
     "metadata": {},
     "output_type": "execute_result"
    }
   ],
   "source": [
    "c = np.matrix([2,3,4,(-2),4,7,5,9,1,6,-3,-1])\n",
    "c = c.reshape(4,3)\n",
    "c"
   ]
  },
  {
   "cell_type": "code",
   "execution_count": 20,
   "metadata": {},
   "outputs": [],
   "source": [
    "class Matrix_operations:\n",
    "    \"\"\"\n",
    "    Class for matrix operarations\n",
    "    \"\"\"\n",
    "    def arrayn(mn):\n",
    "        \"\"\"\n",
    "        Return number of rows\n",
    "        \"\"\"\n",
    "        return(np.shape(mn)[0])\n",
    "    def arraym(mn):\n",
    "        \"\"\"\n",
    "        Return number of columns\n",
    "        \"\"\"\n",
    "        return(np.shape(mn)[1])\n",
    "    def array_of_columns(mn):\n",
    "        \"\"\"\n",
    "        Return columns\n",
    "        \"\"\"\n",
    "        arrayn = np.shape(mn)[0]\n",
    "        arraym = np.shape(mn)[1]\n",
    "        for b in range(arraym):\n",
    "            columns =(np.hsplit(mn, mn.shape[1]))\n",
    "            return(columns)"
   ]
  },
  {
   "cell_type": "code",
   "execution_count": 21,
   "metadata": {},
   "outputs": [],
   "source": [
    "class Reflection:\n",
    "    \"\"\"\n",
    "    Class for calculating the reflection of a, through the orthogonal matrix of v \n",
    "    \"\"\"\n",
    "    def __init__(self, v): \n",
    "        \"\"\"\n",
    "        Define the vector v\n",
    "        \"\"\"\n",
    "        self.v = v  \n",
    "    \n",
    "    def __mul__(self, a):\n",
    "        \"\"\"\n",
    "        Calculate the matrix product for the \n",
    "        reflection of vector a or the vectors \n",
    "        resulting from the columns in matrix a through \n",
    "        the plane of the orthogonal matrix H\n",
    "        \"\"\"\n",
    "        if len(a) < len(self.v):\n",
    "            raise Exception('Length of a is smaller than length of v!')\n",
    "        elif len(a) > len(self.v):\n",
    "            differenceav = (len(a) - len(self.v))\n",
    "            add = np.zeros(differenceav)\n",
    "            vresh = self.v.reshape(1,len(self.v))\n",
    "            velong = np.insert(self.v,0,add).reshape(len(a),1)\n",
    "            self.v = velong\n",
    "        else:\n",
    "            self.v = v\n",
    "        gamma = ((np.linalg.norm(self.v))**2)/2\n",
    "        vvtrans = self.v * np.transpose(self.v)\n",
    "        H =  np.identity((len(a))) - (vvtrans/gamma)\n",
    "        reflection = np.dot(H,a)\n",
    "        return(reflection) "
   ]
  },
  {
   "cell_type": "markdown",
   "metadata": {},
   "source": [
    "Make the test"
   ]
  },
  {
   "cell_type": "code",
   "execution_count": 13,
   "metadata": {},
   "outputs": [
    {
     "data": {
      "text/plain": [
       "array([[1],\n",
       "       [2],\n",
       "       [3]])"
      ]
     },
     "execution_count": 13,
     "metadata": {},
     "output_type": "execute_result"
    }
   ],
   "source": [
    "b = np.array([1,2,3])\n",
    "b = b.reshape(3,1)\n",
    "b"
   ]
  },
  {
   "cell_type": "code",
   "execution_count": 30,
   "metadata": {},
   "outputs": [
    {
     "data": {
      "text/plain": [
       "matrix([[ 2.        ],\n",
       "        [-5.71428571],\n",
       "        [-2.42857143],\n",
       "        [-5.14285714]])"
      ]
     },
     "execution_count": 30,
     "metadata": {},
     "output_type": "execute_result"
    }
   ],
   "source": [
    "r = Reflection(b)\n",
    "result = r * c\n",
    "result\n",
    "Matrix_operations.array_of_columns(result)[0]"
   ]
  },
  {
   "cell_type": "code",
   "execution_count": 116,
   "metadata": {},
   "outputs": [],
   "source": [
    "#vector1 = c[...,0]\n",
    "#vector2 = c[...,1] \n",
    "#vector3 = c[...,2]"
   ]
  }
 ],
 "metadata": {
  "kernelspec": {
   "display_name": "Python 3",
   "language": "python",
   "name": "python3"
  },
  "language_info": {
   "codemirror_mode": {
    "name": "ipython",
    "version": 3
   },
   "file_extension": ".py",
   "mimetype": "text/x-python",
   "name": "python",
   "nbconvert_exporter": "python",
   "pygments_lexer": "ipython3",
   "version": "3.6.3"
  }
 },
 "nbformat": 4,
 "nbformat_minor": 2
}
