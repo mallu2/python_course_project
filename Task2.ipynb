{
 "cells": [
  {
   "cell_type": "markdown",
   "metadata": {},
   "source": [
    "Task 2 use a vector of a different lenght a, such that if len(a) < len(v), raise an exception and if len(a) > len(v) add 0 at v[0], to match len(a)"
   ]
  },
  {
   "cell_type": "code",
   "execution_count": 1,
   "metadata": {
    "collapsed": true
   },
   "outputs": [],
   "source": [
    "import numpy as np"
   ]
  },
  {
   "cell_type": "code",
   "execution_count": 2,
   "metadata": {
    "collapsed": true
   },
   "outputs": [],
   "source": [
    "class Reflection:\n",
    "    \"\"\"\n",
    "    Class for calculating the reflection of a, through the orthogonal matrix of v \n",
    "    \"\"\"\n",
    "    def __init__(self, v): \n",
    "        \"\"\"\n",
    "        Define the vector v \n",
    "        \"\"\"\n",
    "        self.v = v\n",
    "    def __mul__(self, a):\n",
    "        \"\"\"\n",
    "        Calculate the matrix product for the reflection through the plane with matrix H\n",
    "        \"\"\"\n",
    "        if len(a) < len(self.v):\n",
    "            raise Exception('Length of a is smaller than length of v!')\n",
    "        elif len(a) > len(self.v):\n",
    "            differenceav = (len(a) - len(self.v))\n",
    "            add = np.zeros(differenceav)\n",
    "            vresh = self.v.reshape(1,len(self.v))\n",
    "            velong = np.insert(self.v,0,add).reshape(len(a),1)\n",
    "            self.v = velong\n",
    "        else:\n",
    "            self.v = v\n",
    "        gamma = ((np.linalg.norm(self.v))**2)/2\n",
    "        vvtrans = self.v * np.transpose(self.v)\n",
    "        H =  np.identity((len(a))) - (vvtrans/gamma)\n",
    "        reflection = np.dot(H,a)\n",
    "        return(reflection) "
   ]
  },
  {
   "cell_type": "markdown",
   "metadata": {},
   "source": [
    "Make the test"
   ]
  },
  {
   "cell_type": "code",
   "execution_count": 3,
   "metadata": {},
   "outputs": [
    {
     "data": {
      "text/plain": [
       "array([[1],\n",
       "       [2],\n",
       "       [3]])"
      ]
     },
     "execution_count": 3,
     "metadata": {},
     "output_type": "execute_result"
    }
   ],
   "source": [
    "b = np.array([1,2,3])\n",
    "b = b.reshape(3,1)\n",
    "b"
   ]
  },
  {
   "cell_type": "code",
   "execution_count": 4,
   "metadata": {},
   "outputs": [
    {
     "data": {
      "text/plain": [
       "array([[ 2],\n",
       "       [-2],\n",
       "       [ 5],\n",
       "       [ 6]])"
      ]
     },
     "execution_count": 4,
     "metadata": {},
     "output_type": "execute_result"
    }
   ],
   "source": [
    "c = np.array([2,(-2),5,6])\n",
    "c = c.reshape(4,1)\n",
    "c "
   ]
  },
  {
   "cell_type": "code",
   "execution_count": 7,
   "metadata": {
    "collapsed": true
   },
   "outputs": [],
   "source": [
    "g = np.array([3,4,9,(-3)])"
   ]
  },
  {
   "cell_type": "code",
   "execution_count": 10,
   "metadata": {},
   "outputs": [
    {
     "data": {
      "text/plain": [
       "array([ 3.        ,  2.14285714,  5.28571429, -8.57142857])"
      ]
     },
     "execution_count": 10,
     "metadata": {},
     "output_type": "execute_result"
    }
   ],
   "source": [
    "r = Reflection(b)\n",
    "result = r * g\n",
    "result"
   ]
  },
  {
   "cell_type": "code",
   "execution_count": null,
   "metadata": {
    "collapsed": true
   },
   "outputs": [],
   "source": []
  }
 ],
 "metadata": {
  "kernelspec": {
   "display_name": "Python 3",
   "language": "python",
   "name": "python3"
  },
  "language_info": {
   "codemirror_mode": {
    "name": "ipython",
    "version": 3
   },
   "file_extension": ".py",
   "mimetype": "text/x-python",
   "name": "python",
   "nbconvert_exporter": "python",
   "pygments_lexer": "ipython3",
   "version": "3.6.3"
  }
 },
 "nbformat": 4,
 "nbformat_minor": 2
}
