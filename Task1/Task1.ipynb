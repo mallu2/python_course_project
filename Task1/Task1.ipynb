{
 "cells": [
  {
   "cell_type": "markdown",
   "metadata": {},
   "source": [
    "Task 1 for QR decomposition: reflecting a vector through a plane that is spanned by a vector with vectors v to initialize the Reflection and a the vector being reflected."
   ]
  },
  {
   "cell_type": "code",
   "execution_count": 17,
   "metadata": {
    "collapsed": true
   },
   "outputs": [],
   "source": [
    "import numpy as np"
   ]
  },
  {
   "cell_type": "code",
   "execution_count": 13,
   "metadata": {
    "collapsed": true
   },
   "outputs": [],
   "source": [
    "class Reflection:\n",
    "    \"\"\"\n",
    "    Class for calculating the reflection of vector a, through the orthogonal matrix of vector v \n",
    "    \"\"\"\n",
    "    def __init__(self,v): \n",
    "        \"\"\"\n",
    "        Define the vector v \n",
    "        \"\"\"\n",
    "        self.v = v\n",
    "    def __mul__(self, a):\n",
    "        \"\"\"\n",
    "        Calculate the matrix product for the reflection through the plane with matrix H\n",
    "        \"\"\"\n",
    "        gamma = ((np.linalg.norm(self.v))**2)/2\n",
    "        vvtrans = self.v * np.transpose(self.v)\n",
    "        H =  np.identity((len(self.v))) - (vvtrans/gamma)\n",
    "        reflection = np.dot( H, a)\n",
    "        return(reflection) "
   ]
  },
  {
   "cell_type": "markdown",
   "metadata": {},
   "source": [
    "Make the test"
   ]
  },
  {
   "cell_type": "code",
   "execution_count": 19,
   "metadata": {},
   "outputs": [
    {
     "data": {
      "text/plain": [
       "array([[1],\n",
       "       [2],\n",
       "       [3]])"
      ]
     },
     "execution_count": 19,
     "metadata": {},
     "output_type": "execute_result"
    }
   ],
   "source": [
    "b = np.array([1,2,3])\n",
    "b = b.reshape(3,1)\n",
    "b"
   ]
  },
  {
   "cell_type": "code",
   "execution_count": 15,
   "metadata": {},
   "outputs": [
    {
     "data": {
      "text/plain": [
       "array([[ 2],\n",
       "       [-2],\n",
       "       [ 4]])"
      ]
     },
     "execution_count": 15,
     "metadata": {},
     "output_type": "execute_result"
    }
   ],
   "source": [
    "c = np.array([2,(-2),4])\n",
    "c = c.reshape(3,1)\n",
    "c"
   ]
  },
  {
   "cell_type": "code",
   "execution_count": 16,
   "metadata": {},
   "outputs": [
    {
     "data": {
      "text/plain": [
       "array([[ 0.57142857],\n",
       "       [-4.85714286],\n",
       "       [-0.28571429]])"
      ]
     },
     "execution_count": 16,
     "metadata": {},
     "output_type": "execute_result"
    }
   ],
   "source": [
    "r = Reflection(b)\n",
    "result = r * c\n",
    "result"
   ]
  }
 ],
 "metadata": {
  "kernelspec": {
   "display_name": "Python 3",
   "language": "python",
   "name": "python3"
  },
  "language_info": {
   "codemirror_mode": {
    "name": "ipython",
    "version": 3
   },
   "file_extension": ".py",
   "mimetype": "text/x-python",
   "name": "python",
   "nbconvert_exporter": "python",
   "pygments_lexer": "ipython3",
   "version": "3.6.3"
  }
 },
 "nbformat": 4,
 "nbformat_minor": 2
}
